{
 "cells": [
  {
   "cell_type": "markdown",
   "metadata": {},
   "source": [
    "## Simples implementação de um algoritmo genético com seus componentes principais: Função Objetivo, Seleção, Reprodução...\n"
   ]
  },
  {
   "cell_type": "markdown",
   "metadata": {},
   "source": [
    "### Após uma escolha aleatória de um número com 'n' dígitos, criamos uma população e reproduzimos os indivíduos que estão entre os 20% mais aptos. A cada geração, mostramos o invivíduo mais apto e ao fim, vemos o tempo necessário para achar a solução."
   ]
  },
  {
   "cell_type": "code",
   "execution_count": 1,
   "metadata": {
    "collapsed": true
   },
   "outputs": [],
   "source": [
    "import numpy as np\n",
    "import timeit\n",
    "import random"
   ]
  },
  {
   "cell_type": "code",
   "execution_count": 2,
   "metadata": {
    "collapsed": true
   },
   "outputs": [],
   "source": [
    "# Sorteia número com 'n' dígitos a ser adivinhando pelo algoritmo\n",
    "def sortear_numero(n):\n",
    "    return str(np.random.randint(10 ** (n-1), (10 ** n)-1))\n",
    "\n",
    "def tentativa(tent, numero):\n",
    "    tent = str(tent)\n",
    "    assert len(tent) == len(numero), \"A quantidade de dígitos deve ser {}!\".format(len(numero))\n",
    "\n",
    "    pos_cor = pos_err = 0\n",
    "\n",
    "    for i in range(len(numero)):\n",
    "        if tent[i] == numero[i]:\n",
    "            pos_cor += 1\n",
    "\n",
    "    temp = numero  \n",
    "    for t in tent:\n",
    "        if t in temp:\n",
    "            pos_err +=1\n",
    "            temp = temp.replace(t, \"\", 1)\n",
    "\n",
    "    return pos_cor, pos_err - pos_cor\n",
    "\n",
    "def reproduzir(n1, n2):\n",
    "    n1 = str(n1)\n",
    "    n2 = str(n2)\n",
    "    assert len(n1) == len(n2), \"Os indivíduos devem ter o mesmo tamanho\"\n",
    "    nova1 = nova2 = ''\n",
    "\n",
    "    for ind, i in list(enumerate(zip(n1, n2))):\n",
    "        if ind % 2 == 0:\n",
    "            nova1 += i[0]\n",
    "            nova2 += i[1]\n",
    "        else:\n",
    "            nova1 += i[1]\n",
    "            nova2 += i[0]\n",
    "            \n",
    "    return int(nova1), int(nova2)"
   ]
  },
  {
   "cell_type": "code",
   "execution_count": 3,
   "metadata": {},
   "outputs": [
    {
     "data": {
      "text/plain": [
       "'275508'"
      ]
     },
     "execution_count": 3,
     "metadata": {},
     "output_type": "execute_result"
    }
   ],
   "source": [
    "numero = sortear_numero(6)\n",
    "numero"
   ]
  },
  {
   "cell_type": "code",
   "execution_count": 4,
   "metadata": {},
   "outputs": [],
   "source": [
    "n_populacao = 1000  # número de indivíduos\n",
    "assert n_populacao % 5 == 0, 'o número de invidíduos deve ser divisível por 5!'\n",
    "\n",
    "geracoes = 500\n",
    "tam_individuo = len(numero)\n",
    "populacao = []\n",
    "corretas = [0] * n_populacao\n",
    "pos_incorretas = [0] * n_populacao"
   ]
  },
  {
   "cell_type": "code",
   "execution_count": 5,
   "metadata": {},
   "outputs": [],
   "source": [
    "# cria  população aleatória\n",
    "for i in range(n_populacao):\n",
    "    populacao.append(int(np.random.randint(10 ** (tam_individuo -1), 10 ** tam_individuo)))"
   ]
  },
  {
   "cell_type": "code",
   "execution_count": 6,
   "metadata": {},
   "outputs": [
    {
     "name": "stdout",
     "output_type": "stream",
     "text": [
      "GERAÇÃO:  1\n",
      "Melhor indivíduo:  955507\n",
      "Número de acertos: 3/6 \n",
      "\n",
      "GERAÇÃO:  2\n",
      "Melhor indivíduo:  275858\n",
      "Número de acertos: 4/6 \n",
      "\n",
      "GERAÇÃO:  3\n",
      "Melhor indivíduo:  255508\n",
      "Número de acertos: 5/6 \n",
      "\n",
      "GERAÇÃO:  4\n",
      "Melhor indivíduo:  215508\n",
      "Número de acertos: 5/6 \n",
      "\n",
      "GERAÇÃO:  5\n",
      "Melhor indivíduo:  975502\n",
      "Número de acertos: 4/6 \n",
      "\n",
      "GERAÇÃO:  6\n",
      "Melhor indivíduo:  275208\n",
      "Número de acertos: 5/6 \n",
      "\n",
      "GERAÇÃO:  7\n",
      "Melhor indivíduo:  275208\n",
      "Número de acertos: 5/6 \n",
      "\n",
      "GERAÇÃO:  8\n",
      "Melhor indivíduo:  275408\n",
      "Número de acertos: 5/6 \n",
      "\n",
      "GERAÇÃO:  9\n",
      "Melhor indivíduo:  875508\n",
      "Número de acertos: 5/6 \n",
      "\n",
      "GERAÇÃO:  10\n",
      "Melhor indivíduo:  275508\n",
      "Número de acertos: 6/6 \n",
      "\n",
      "Fim\n",
      "TEMPO: 0.07 seg\n"
     ]
    }
   ],
   "source": [
    "start_time = timeit.default_timer()\n",
    "for i in range(geracoes):\n",
    "    # FUNÇÃO OBJETIVO\n",
    "    for indice, individuo in enumerate(populacao):\n",
    "        corretas[indice], pos_incorretas[indice] = tentativa(individuo, numero)\n",
    "\n",
    "    # Ordena a população, do pior ao melhor\n",
    "    populacao = [x for _, _,x in sorted(zip(corretas, pos_incorretas, populacao))]\n",
    "    \n",
    "    print('GERAÇÃO: ', i+1)\n",
    "    print(\"Melhor indivíduo: \", populacao[-1])\n",
    "    print('Número de acertos: {}/{}'.format(tentativa(populacao[-1], numero)[0],tam_individuo), '\\n')\n",
    "    if tentativa(populacao[-1], numero)[0] == tam_individuo:\n",
    "        print(\"Fim\")\n",
    "        break\n",
    "    \n",
    "    # SELEÇÃO: Sorteia top 20%\n",
    "    copia = populacao[int(n_populacao * 4/5):]\n",
    "    random.shuffle(copia)\n",
    "    populacao[int(n_populacao * 4/5):] = copia\n",
    "    \n",
    "    # REPRODUÇÃO\n",
    "    for i in range(int(n_populacao * 4/5), n_populacao, 2):\n",
    "        populacao[i], populacao[i+1] = reproduzir(populacao[i], populacao[i+1])\n",
    "\n",
    "    # Cria 80% da nova população com aleatórios\n",
    "    for i in range(int(n_populacao * 4/5)):\n",
    "        populacao[i] =int(np.random.randint(10 ** (tam_individuo -1), 10 ** tam_individuo))\n",
    "    \n",
    "tempo1 = timeit.default_timer() - start_time\n",
    "print('TEMPO: {:.2f} seg'.format(tempo1))"
   ]
  },
  {
   "cell_type": "markdown",
   "metadata": {},
   "source": [
    "### MÉTODO DA FORÇA BRUTA, POR TENTATIVA E ERRO \n",
    "#### Perceba a diferença de tempo necessária para achar a resposta"
   ]
  },
  {
   "cell_type": "code",
   "execution_count": 7,
   "metadata": {},
   "outputs": [
    {
     "name": "stdout",
     "output_type": "stream",
     "text": [
      "TEMPO: 2.58 seg\n"
     ]
    }
   ],
   "source": [
    "start_time = timeit.default_timer()\n",
    "n = int(tam_individuo)\n",
    "for i in range(10 ** (n-1), (10 ** n)-1):\n",
    "       tentativa(i, numero)\n",
    "tempo2 = timeit.default_timer() - start_time\n",
    "print('TEMPO: {:.2f} seg'.format(tempo2))"
   ]
  },
  {
   "cell_type": "code",
   "execution_count": 8,
   "metadata": {},
   "outputs": [
    {
     "name": "stdout",
     "output_type": "stream",
     "text": [
      "RESULTADO: \n",
      "\n",
      "O ALGORITMO GENÉTICO FOI 36.32 vezes mais rápido que o método da força bruta.\n"
     ]
    }
   ],
   "source": [
    "print('RESULTADO: \\n')\n",
    "print ('O ALGORITMO GENÉTICO FOI {:.2f} vezes mais rápido que o método da força bruta.'.format(tempo2/tempo1))"
   ]
  }
 ],
 "metadata": {
  "kernelspec": {
   "display_name": "Python 3",
   "language": "python",
   "name": "python3"
  },
  "language_info": {
   "codemirror_mode": {
    "name": "ipython",
    "version": 3
   },
   "file_extension": ".py",
   "mimetype": "text/x-python",
   "name": "python",
   "nbconvert_exporter": "python",
   "pygments_lexer": "ipython3",
   "version": "3.6.1"
  }
 },
 "nbformat": 4,
 "nbformat_minor": 1
}
